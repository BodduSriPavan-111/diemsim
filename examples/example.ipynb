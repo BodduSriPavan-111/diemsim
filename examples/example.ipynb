{
 "cells": [
  {
   "cell_type": "markdown",
   "id": "0e5d2c6c",
   "metadata": {},
   "source": [
    "## <b>Example</b>"
   ]
  },
  {
   "cell_type": "markdown",
   "id": "a557fa3f",
   "metadata": {},
   "source": [
    "### Import necessary libraries"
   ]
  },
  {
   "cell_type": "code",
   "execution_count": 1,
   "id": "4aa2a227",
   "metadata": {},
   "outputs": [
    {
     "name": "stderr",
     "output_type": "stream",
     "text": [
      "c:\\Users\\bsnra\\anaconda3\\Lib\\site-packages\\pandas\\core\\arrays\\masked.py:60: UserWarning: Pandas requires version '1.3.6' or newer of 'bottleneck' (version '1.3.5' currently installed).\n",
      "  from pandas.core import (\n"
     ]
    }
   ],
   "source": [
    "# Uncomment this if required to execute from source code\n",
    "import sys\n",
    "import os\n",
    "\n",
    "sys.path.append(os.path.abspath(os.path.join(os.getcwd(), '..')))\n",
    "\n",
    "from diemsim import DIEM\n",
    "\n",
    "import numpy as np\n",
    "from sentence_transformers import SentenceTransformer\n",
    "from scipy.spatial.distance import euclidean, cosine"
   ]
  },
  {
   "cell_type": "markdown",
   "id": "2a0bb919",
   "metadata": {},
   "source": [
    "### Load Sentence Transformers 'all-MiniLM-L6-v2' model"
   ]
  },
  {
   "cell_type": "code",
   "execution_count": 2,
   "id": "ac833314",
   "metadata": {},
   "outputs": [
    {
     "data": {
      "text/plain": [
       "SentenceTransformer(\n",
       "  (0): Transformer({'max_seq_length': 256, 'do_lower_case': False}) with Transformer model: BertModel \n",
       "  (1): Pooling({'word_embedding_dimension': 384, 'pooling_mode_cls_token': False, 'pooling_mode_mean_tokens': True, 'pooling_mode_max_tokens': False, 'pooling_mode_mean_sqrt_len_tokens': False, 'pooling_mode_weightedmean_tokens': False, 'pooling_mode_lasttoken': False, 'include_prompt': True})\n",
       "  (2): Normalize()\n",
       ")"
      ]
     },
     "execution_count": 2,
     "metadata": {},
     "output_type": "execute_result"
    }
   ],
   "source": [
    "model = SentenceTransformer('sentence-transformers/all-MiniLM-L6-v2')\n",
    "model"
   ]
  },
  {
   "cell_type": "markdown",
   "id": "9b032455",
   "metadata": {},
   "source": [
    "### Input sentences"
   ]
  },
  {
   "cell_type": "code",
   "execution_count": 3,
   "id": "16d5646c",
   "metadata": {},
   "outputs": [],
   "source": [
    "sentences = [\"I am eating\", \"Eating\", \"Sleep well\"]"
   ]
  },
  {
   "cell_type": "markdown",
   "id": "6707fcd9",
   "metadata": {},
   "source": [
    "### Extract embeddings of input sentences"
   ]
  },
  {
   "cell_type": "code",
   "execution_count": 4,
   "id": "667c8b45",
   "metadata": {},
   "outputs": [
    {
     "data": {
      "text/plain": [
       "(3, 384)"
      ]
     },
     "execution_count": 4,
     "metadata": {},
     "output_type": "execute_result"
    }
   ],
   "source": [
    "embeddings = model.encode(sentences)\n",
    "\n",
    "embeddings.shape"
   ]
  },
  {
   "cell_type": "markdown",
   "id": "c961006b",
   "metadata": {},
   "source": [
    "### Euclidean Distance"
   ]
  },
  {
   "cell_type": "code",
   "execution_count": 5,
   "id": "0068895c",
   "metadata": {},
   "outputs": [
    {
     "name": "stdout",
     "output_type": "stream",
     "text": [
      "Euclidean Distance\n",
      "==================\n",
      "I am eating  and  Eating  :  0.6304230093955994\n",
      "I am eating  and  Sleep well  :  1.1819276809692383\n",
      "Eating  and  Sleep well  :  1.2251417636871338\n"
     ]
    }
   ],
   "source": [
    "print(\"Euclidean Distance\")\n",
    "print(\"==================\")\n",
    "print(sentences[0], \" and \", sentences[1], \" : \", euclidean( embeddings[0], embeddings[1] ))\n",
    "print(sentences[0], \" and \", sentences[2], \" : \", euclidean( embeddings[0], embeddings[2] ))\n",
    "print(sentences[1], \" and \", sentences[2], \" : \", euclidean( embeddings[1], embeddings[2] ))"
   ]
  },
  {
   "cell_type": "markdown",
   "id": "1b560133",
   "metadata": {},
   "source": [
    "### Cosine Distance"
   ]
  },
  {
   "cell_type": "code",
   "execution_count": 7,
   "id": "178dcda0",
   "metadata": {},
   "outputs": [
    {
     "name": "stdout",
     "output_type": "stream",
     "text": [
      "Cosine Distance\n",
      "===============\n",
      "I am eating  and  Eating  :  0.19871652126312256\n",
      "I am eating  and  Sleep well  :  0.6984765231609344\n",
      "Eating  and  Sleep well  :  0.7504861503839493\n"
     ]
    }
   ],
   "source": [
    "print(\"Cosine Distance\")\n",
    "print(\"===============\")\n",
    "print(sentences[0], \" and \", sentences[1], \" : \", cosine( embeddings[0], embeddings[1] ))\n",
    "print(sentences[0], \" and \", sentences[2], \" : \", cosine( embeddings[0], embeddings[2] ))\n",
    "print(sentences[1], \" and \", sentences[2], \" : \", cosine( embeddings[1], embeddings[2] ))"
   ]
  },
  {
   "cell_type": "markdown",
   "id": "6e865d48",
   "metadata": {},
   "source": [
    "### DIEM"
   ]
  },
  {
   "cell_type": "code",
   "execution_count": 8,
   "id": "632f4971",
   "metadata": {},
   "outputs": [
    {
     "data": {
      "text/plain": [
       "{'exp_center': 7.994547548065526,\n",
       " 'vard': 0.05850579226082706,\n",
       " 'std_one': 4.134286483974337,\n",
       " 'orth_med': 57.70464210386009,\n",
       " 'min_DIEM': -136.64540277353578,\n",
       " 'max_DIEM': 198.2943901089204}"
      ]
     },
     "execution_count": 8,
     "metadata": {},
     "output_type": "execute_result"
    }
   ],
   "source": [
    "# Compute stats required to get DIEM\n",
    "diem= DIEM( N= embeddings.shape[1], maxV= 1, minV= 0, n_iter= int(1000)) \n",
    "diem.stats"
   ]
  },
  {
   "cell_type": "code",
   "execution_count": 9,
   "id": "b8651c50",
   "metadata": {},
   "outputs": [],
   "source": [
    "# Adjust the sizes of input embeddings\n",
    "a, b, c= np.expand_dims(embeddings[0], axis= -1), np.expand_dims(embeddings[1], axis= -1), np.expand_dims(embeddings[2], axis= -1)"
   ]
  },
  {
   "cell_type": "code",
   "execution_count": 11,
   "id": "f5dd3d46",
   "metadata": {},
   "outputs": [
    {
     "name": "stdout",
     "output_type": "stream",
     "text": [
      "DIEM\n",
      "====\n",
      "Minimum DIEM :  -136.64540277353578\n",
      "Maximum DIEM :  198.2943901089204\n",
      "\n",
      "I am eating  and  Eating  :  -125.87000797869077\n",
      "I am eating  and  Sleep well  :  -116.44351104117467\n",
      "Eating  and  Sleep well  :  -115.70488190638335\n"
     ]
    }
   ],
   "source": [
    "print(\"DIEM\")\n",
    "print(\"====\")\n",
    "print(\"Minimum DIEM : \", diem.stats[\"min_DIEM\"])\n",
    "print(\"Maximum DIEM : \", diem.stats[\"max_DIEM\"])\n",
    "print()\n",
    "print(sentences[0], \" and \", sentences[1], \" : \", diem.sim( a, b ))\n",
    "print(sentences[0], \" and \", sentences[2], \" : \", diem.sim( a, c ))\n",
    "print(sentences[1], \" and \", sentences[2], \" : \", diem.sim( b, c ))"
   ]
  },
  {
   "cell_type": "code",
   "execution_count": 13,
   "id": "dc164668",
   "metadata": {},
   "outputs": [
    {
     "name": "stdout",
     "output_type": "stream",
     "text": [
      "Normalized DIEM\n",
      "====\n",
      "I am eating  and  Eating  :  0.032171139481854676\n",
      "I am eating  and  Sleep well  :  0.06031499440095122\n",
      "Eating  and  Sleep well  :  0.06252025382514433\n"
     ]
    },
    {
     "data": {
      "text/plain": [
       "(0.032171139481854676, 0.06031499440095122, 0.06252025382514433)"
      ]
     },
     "execution_count": 13,
     "metadata": {},
     "output_type": "execute_result"
    }
   ],
   "source": [
    "print(\"Normalized DIEM\")\n",
    "print(\"====\")\n",
    "print(sentences[0], \" and \", sentences[1], \" : \", diem.norm_sim( a, b ))\n",
    "print(sentences[0], \" and \", sentences[2], \" : \", diem.norm_sim( a, c ))\n",
    "print(sentences[1], \" and \", sentences[2], \" : \", diem.norm_sim( b, c ))\n",
    "\n",
    "diem.norm_sim( a, b ), diem.norm_sim( a, c ), diem.norm_sim( b, c )"
   ]
  },
  {
   "cell_type": "markdown",
   "id": "4600b539",
   "metadata": {},
   "source": [
    "### END\n",
    "_________"
   ]
  }
 ],
 "metadata": {
  "kernelspec": {
   "display_name": "base",
   "language": "python",
   "name": "python3"
  },
  "language_info": {
   "codemirror_mode": {
    "name": "ipython",
    "version": 3
   },
   "file_extension": ".py",
   "mimetype": "text/x-python",
   "name": "python",
   "nbconvert_exporter": "python",
   "pygments_lexer": "ipython3",
   "version": "3.11.3"
  }
 },
 "nbformat": 4,
 "nbformat_minor": 5
}
