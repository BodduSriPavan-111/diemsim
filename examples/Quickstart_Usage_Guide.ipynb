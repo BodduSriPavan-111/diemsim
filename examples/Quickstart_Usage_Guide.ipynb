{
 "cells": [
  {
   "cell_type": "markdown",
   "id": "a8eb56e5",
   "metadata": {},
   "source": [
    "## <b>Quickstart:</b> Usage Guide"
   ]
  },
  {
   "cell_type": "markdown",
   "id": "ad5d764f",
   "metadata": {},
   "source": [
    "### Import necessary libraries"
   ]
  },
  {
   "cell_type": "code",
   "execution_count": 1,
   "id": "a98da935",
   "metadata": {},
   "outputs": [],
   "source": [
    "# Uncomment this if required to execute from source code\n",
    "import sys\n",
    "import os\n",
    "\n",
    "sys.path.append(os.path.abspath(os.path.join(os.getcwd(), '..')))\n",
    "\n",
    "import numpy as np\n",
    "from diemsim import DIEM"
   ]
  },
  {
   "cell_type": "markdown",
   "id": "498bda3d",
   "metadata": {},
   "source": [
    "### Initialize values"
   ]
  },
  {
   "cell_type": "code",
   "execution_count": 2,
   "id": "68209598",
   "metadata": {},
   "outputs": [],
   "source": [
    "N= 12\n",
    "maxV= 1\n",
    "minV= 0\n",
    "n_iter= int(1e5)"
   ]
  },
  {
   "cell_type": "markdown",
   "id": "432409b0",
   "metadata": {},
   "source": [
    "### Generate two random vectors (embeddings)"
   ]
  },
  {
   "cell_type": "code",
   "execution_count": 3,
   "id": "49bfb3fe",
   "metadata": {},
   "outputs": [],
   "source": [
    "S1= np.random.rand(N, 1) * (maxV - minV) + minV\n",
    "S2= np.random.rand(N, 1) * (maxV - minV) + minV"
   ]
  },
  {
   "cell_type": "code",
   "execution_count": 4,
   "id": "68e2462e",
   "metadata": {},
   "outputs": [
    {
     "data": {
      "text/plain": [
       "((12, 1), (12, 1))"
      ]
     },
     "execution_count": 4,
     "metadata": {},
     "output_type": "execute_result"
    }
   ],
   "source": [
    "S1.shape, S2.shape"
   ]
  },
  {
   "cell_type": "markdown",
   "id": "79f92cb5",
   "metadata": {},
   "source": [
    "### Initialize 'diemsim.DIEM'"
   ]
  },
  {
   "cell_type": "code",
   "execution_count": 5,
   "id": "e8f219a5",
   "metadata": {},
   "outputs": [],
   "source": [
    "diem= DIEM( N= N, maxV= maxV, minV= minV, n_iter= n_iter ) "
   ]
  },
  {
   "cell_type": "code",
   "execution_count": 6,
   "id": "25fc4818",
   "metadata": {},
   "outputs": [
    {
     "data": {
      "text/plain": [
       "{'exp_center': np.float64(1.3956391316527714),\n",
       " 'vard': np.float64(0.06046034028155452),\n",
       " 'std_one': np.float64(4.066911355793923),\n",
       " 'orth_med': np.float64(13.78861301079904),\n",
       " 'min_DIEM': np.float64(-23.08354741560326),\n",
       " 'max_DIEM': np.float64(34.21188954366566)}"
      ]
     },
     "execution_count": 6,
     "metadata": {},
     "output_type": "execute_result"
    }
   ],
   "source": [
    "# Display stats\n",
    "diem.stats"
   ]
  },
  {
   "cell_type": "markdown",
   "id": "6905e49e",
   "metadata": {},
   "source": [
    "### Compute DIEM value using 'DIEM.sim'"
   ]
  },
  {
   "cell_type": "code",
   "execution_count": null,
   "id": "9ff9aa64",
   "metadata": {},
   "outputs": [
    {
     "ename": "TypeError",
     "evalue": "list indices must be integers or slices, not tuple",
     "output_type": "error",
     "traceback": [
      "\u001b[1;31m---------------------------------------------------------------------------\u001b[0m",
      "\u001b[1;31mTypeError\u001b[0m                                 Traceback (most recent call last)",
      "Cell \u001b[1;32mIn[8], line 1\u001b[0m\n\u001b[1;32m----> 1\u001b[0m \u001b[38;5;28mprint\u001b[39m( \u001b[38;5;124m\"\u001b[39m\u001b[38;5;124mOutput Value: \u001b[39m\u001b[38;5;124m\"\u001b[39m, \u001b[43mdiem\u001b[49m\u001b[38;5;241;43m.\u001b[39;49m\u001b[43msim\u001b[49m\u001b[43m(\u001b[49m\u001b[43m \u001b[49m\u001b[43m[\u001b[49m\u001b[38;5;241;43m1\u001b[39;49m\u001b[43m,\u001b[49m\u001b[38;5;241;43m2\u001b[39;49m\u001b[43m,\u001b[49m\u001b[38;5;241;43m3\u001b[39;49m\u001b[43m]\u001b[49m\u001b[43m,\u001b[49m\u001b[43m \u001b[49m\u001b[43m[\u001b[49m\u001b[38;5;241;43m4\u001b[39;49m\u001b[43m,\u001b[49m\u001b[38;5;241;43m5\u001b[39;49m\u001b[43m,\u001b[49m\u001b[38;5;241;43m6\u001b[39;49m\u001b[43m]\u001b[49m\u001b[43m)\u001b[49m )\n",
      "File \u001b[1;32mc:\\Users\\bsnra\\Desktop\\diemsim\\diemsim\\DIEM.py:145\u001b[0m, in \u001b[0;36mDIEM.sim\u001b[1;34m(self, a, b)\u001b[0m\n\u001b[0;32m    127\u001b[0m \u001b[38;5;250m\u001b[39m\u001b[38;5;124;03m\"\"\"\u001b[39;00m\n\u001b[0;32m    128\u001b[0m \u001b[38;5;124;03mComputes DIEM value.\u001b[39;00m\n\u001b[0;32m    129\u001b[0m \n\u001b[1;32m   (...)\u001b[0m\n\u001b[0;32m    141\u001b[0m \u001b[38;5;124;03mDIEM Value : float\u001b[39;00m\n\u001b[0;32m    142\u001b[0m \u001b[38;5;124;03m\"\"\"\u001b[39;00m\n\u001b[0;32m    144\u001b[0m \u001b[38;5;66;03m# Calculate difference between two input vector embeddings 'a' and 'b'\u001b[39;00m\n\u001b[1;32m--> 145\u001b[0m x\u001b[38;5;241m=\u001b[39m \u001b[43ma\u001b[49m\u001b[43m[\u001b[49m\u001b[43m:\u001b[49m\u001b[43m,\u001b[49m\u001b[43m \u001b[49m\u001b[38;5;241;43m0\u001b[39;49m\u001b[43m]\u001b[49m\u001b[38;5;241m-\u001b[39m b[:, \u001b[38;5;241m0\u001b[39m]\n\u001b[0;32m    147\u001b[0m \u001b[38;5;28;01mreturn\u001b[39;00m (\u001b[38;5;28mself\u001b[39m\u001b[38;5;241m.\u001b[39mmaxV \u001b[38;5;241m-\u001b[39m \u001b[38;5;28mself\u001b[39m\u001b[38;5;241m.\u001b[39mminV) \u001b[38;5;241m*\u001b[39m(np\u001b[38;5;241m.\u001b[39msqrt(np\u001b[38;5;241m.\u001b[39mdot(x, x))\u001b[38;5;241m-\u001b[39m \u001b[38;5;28mself\u001b[39m\u001b[38;5;241m.\u001b[39mexp_center)\u001b[38;5;241m/\u001b[39m \u001b[38;5;28mself\u001b[39m\u001b[38;5;241m.\u001b[39mvard\n",
      "\u001b[1;31mTypeError\u001b[0m: list indices must be integers or slices, not tuple"
     ]
    }
   ],
   "source": [
    "print( \"Output Value: \", diem.sim( [1,2,3], [4,5,6]) )"
   ]
  },
  {
   "cell_type": "code",
   "execution_count": 13,
   "id": "5e16d57c",
   "metadata": {},
   "outputs": [
    {
     "data": {
      "text/plain": [
       "array([0.31144266, 0.30923806, 0.79455452, 0.46547504, 0.10015624,\n",
       "       0.90612459, 0.52979452, 0.26577303, 0.90554356, 0.31545317,\n",
       "       0.17042751, 0.90851301])"
      ]
     },
     "execution_count": 13,
     "metadata": {},
     "output_type": "execute_result"
    }
   ],
   "source": [
    "S1[:, 0]"
   ]
  },
  {
   "cell_type": "markdown",
   "id": "2577824f",
   "metadata": {},
   "source": [
    "### Compute normalized DIEM value using 'DIEM.norm_sim'"
   ]
  },
  {
   "cell_type": "code",
   "execution_count": 8,
   "id": "07b9b0bb",
   "metadata": {},
   "outputs": [
    {
     "name": "stdout",
     "output_type": "stream",
     "text": [
      "Output Value:  0.3849159833179381\n"
     ]
    }
   ],
   "source": [
    "print( \"Output Value: \", diem.norm_sim( S1, S2) )"
   ]
  },
  {
   "cell_type": "markdown",
   "id": "f64c8146",
   "metadata": {},
   "source": [
    "### END\n",
    "____________"
   ]
  }
 ],
 "metadata": {
  "kernelspec": {
   "display_name": "base",
   "language": "python",
   "name": "python3"
  },
  "language_info": {
   "codemirror_mode": {
    "name": "ipython",
    "version": 3
   },
   "file_extension": ".py",
   "mimetype": "text/x-python",
   "name": "python",
   "nbconvert_exporter": "python",
   "pygments_lexer": "ipython3",
   "version": "3.11.3"
  }
 },
 "nbformat": 4,
 "nbformat_minor": 5
}
