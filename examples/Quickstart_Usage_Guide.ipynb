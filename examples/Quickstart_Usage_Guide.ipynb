{
 "cells": [
  {
   "cell_type": "markdown",
   "id": "a8eb56e5",
   "metadata": {},
   "source": [
    "## <b>Quickstart:</b> Usage Guide"
   ]
  },
  {
   "cell_type": "markdown",
   "id": "ad5d764f",
   "metadata": {},
   "source": [
    "### Import necessary libraries"
   ]
  },
  {
   "cell_type": "code",
   "execution_count": 1,
   "id": "a98da935",
   "metadata": {},
   "outputs": [],
   "source": [
    "# Uncomment this if required to execute from source code\n",
    "import sys\n",
    "import os\n",
    "\n",
    "sys.path.append(os.path.abspath(os.path.join(os.getcwd(), '..')))\n",
    "\n",
    "import numpy as np\n",
    "from diemsim import DIEM"
   ]
  },
  {
   "cell_type": "markdown",
   "id": "498bda3d",
   "metadata": {},
   "source": [
    "### Initialize values"
   ]
  },
  {
   "cell_type": "code",
   "execution_count": 2,
   "id": "68209598",
   "metadata": {},
   "outputs": [],
   "source": [
    "N= 12\n",
    "maxV= 1\n",
    "minV= 0\n",
    "n_iter= int(1e5)"
   ]
  },
  {
   "cell_type": "markdown",
   "id": "432409b0",
   "metadata": {},
   "source": [
    "### Generate two random vectors (embeddings)"
   ]
  },
  {
   "cell_type": "code",
   "execution_count": 14,
   "id": "49bfb3fe",
   "metadata": {},
   "outputs": [],
   "source": [
    "S1= np.random.rand(N) * (maxV - minV) + minV\n",
    "S2= np.random.rand(N) * (maxV - minV) + minV"
   ]
  },
  {
   "cell_type": "code",
   "execution_count": 4,
   "id": "68e2462e",
   "metadata": {},
   "outputs": [
    {
     "data": {
      "text/plain": [
       "((12,), (12,))"
      ]
     },
     "execution_count": 4,
     "metadata": {},
     "output_type": "execute_result"
    }
   ],
   "source": [
    "S1.shape, S2.shape"
   ]
  },
  {
   "cell_type": "markdown",
   "id": "79f92cb5",
   "metadata": {},
   "source": [
    "### Initialize 'diemsim.DIEM'"
   ]
  },
  {
   "cell_type": "code",
   "execution_count": 5,
   "id": "e8f219a5",
   "metadata": {},
   "outputs": [],
   "source": [
    "diem= DIEM( N= N, maxV= maxV, minV= minV, n_iter= n_iter ) "
   ]
  },
  {
   "cell_type": "code",
   "execution_count": 6,
   "id": "25fc4818",
   "metadata": {},
   "outputs": [
    {
     "data": {
      "text/plain": [
       "{'exp_center': 1.3963741746646505,\n",
       " 'vard': 0.059958611520071356,\n",
       " 'std_one': 4.083891698209661,\n",
       " 'orth_med': 13.894095735406342,\n",
       " 'min_DIEM': -23.288967827368875,\n",
       " 'max_DIEM': 34.485912666288556}"
      ]
     },
     "execution_count": 6,
     "metadata": {},
     "output_type": "execute_result"
    }
   ],
   "source": [
    "# Display stats\n",
    "diem.stats"
   ]
  },
  {
   "cell_type": "markdown",
   "id": "6905e49e",
   "metadata": {},
   "source": [
    "### Compute DIEM value using 'DIEM.sim'"
   ]
  },
  {
   "cell_type": "code",
   "execution_count": 16,
   "id": "9ff9aa64",
   "metadata": {},
   "outputs": [
    {
     "name": "stdout",
     "output_type": "stream",
     "text": [
      "Output Value:  2.532127854256062\n"
     ]
    }
   ],
   "source": [
    "print( \"Output Value: \", diem.sim( S1, S2 ) )"
   ]
  },
  {
   "cell_type": "markdown",
   "id": "2577824f",
   "metadata": {},
   "source": [
    "### Compute normalized DIEM value using 'DIEM.norm_sim'"
   ]
  },
  {
   "cell_type": "code",
   "execution_count": 17,
   "id": "07b9b0bb",
   "metadata": {},
   "outputs": [
    {
     "name": "stdout",
     "output_type": "stream",
     "text": [
      "Output Value:  0.3678036408121138\n"
     ]
    }
   ],
   "source": [
    "print( \"Output Value: \", diem.norm_sim( S1, S2) )"
   ]
  },
  {
   "cell_type": "markdown",
   "id": "f64c8146",
   "metadata": {},
   "source": [
    "### END\n",
    "____________"
   ]
  }
 ],
 "metadata": {
  "kernelspec": {
   "display_name": "base",
   "language": "python",
   "name": "python3"
  },
  "language_info": {
   "codemirror_mode": {
    "name": "ipython",
    "version": 3
   },
   "file_extension": ".py",
   "mimetype": "text/x-python",
   "name": "python",
   "nbconvert_exporter": "python",
   "pygments_lexer": "ipython3",
   "version": "3.11.3"
  }
 },
 "nbformat": 4,
 "nbformat_minor": 5
}
