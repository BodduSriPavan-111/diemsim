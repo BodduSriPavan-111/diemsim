{
 "cells": [
  {
   "cell_type": "code",
   "execution_count": 7,
   "id": "4aa2a227",
   "metadata": {},
   "outputs": [],
   "source": [
    "import sys\n",
    "import os\n",
    "\n",
    "sys.path.append(os.path.abspath(os.path.join(os.getcwd(), '..')))\n",
    "\n",
    "from diemsim import DIEM\n",
    "\n",
    "from sentence_transformers import SentenceTransformer\n",
    "from scipy.spatial.distance import euclidean, cosine"
   ]
  },
  {
   "cell_type": "code",
   "execution_count": 20,
   "id": "667c8b45",
   "metadata": {},
   "outputs": [
    {
     "data": {
      "text/plain": [
       "(3, 384)"
      ]
     },
     "execution_count": 20,
     "metadata": {},
     "output_type": "execute_result"
    }
   ],
   "source": [
    "sentences = [\"I am eating\", \"Eating\", \"Sleep well\"]\n",
    "\n",
    "model = SentenceTransformer('sentence-transformers/all-MiniLM-L6-v2')\n",
    "embeddings = model.encode(sentences)\n",
    "\n",
    "embeddings.shape"
   ]
  },
  {
   "cell_type": "code",
   "execution_count": 21,
   "id": "0068895c",
   "metadata": {},
   "outputs": [
    {
     "data": {
      "text/plain": [
       "(0.6304230093955994, 1.1819276809692383, 1.2251417636871338)"
      ]
     },
     "execution_count": 21,
     "metadata": {},
     "output_type": "execute_result"
    }
   ],
   "source": [
    "euclidean( embeddings[0], embeddings[1] ), euclidean( embeddings[0], embeddings[2] ), euclidean( embeddings[1], embeddings[2] )"
   ]
  },
  {
   "cell_type": "code",
   "execution_count": 22,
   "id": "178dcda0",
   "metadata": {},
   "outputs": [
    {
     "data": {
      "text/plain": [
       "(0.19871652126312256, 0.6984765231609344, 0.7504861503839493)"
      ]
     },
     "execution_count": 22,
     "metadata": {},
     "output_type": "execute_result"
    }
   ],
   "source": [
    "cosine( embeddings[0], embeddings[1] ), cosine( embeddings[0], embeddings[2] ), cosine( embeddings[1], embeddings[2] )"
   ]
  },
  {
   "cell_type": "code",
   "execution_count": 27,
   "id": "632f4971",
   "metadata": {},
   "outputs": [
    {
     "data": {
      "text/plain": [
       "{'exp_center': 7.9990105435582946,\n",
       " 'vard': 0.056771184054612706,\n",
       " 'std_one': 4.196971536601011,\n",
       " 'orth_med': 59.09912961879202,\n",
       " 'min_DIEM': -140.89913178247986,\n",
       " 'max_DIEM': 204.2745380746532}"
      ]
     },
     "execution_count": 27,
     "metadata": {},
     "output_type": "execute_result"
    }
   ],
   "source": [
    "diem= DIEM( N= embeddings.shape[1], maxV= 1, minV= 0, n_iter= int(1000)) \n",
    "diem.stats"
   ]
  },
  {
   "cell_type": "code",
   "execution_count": 31,
   "id": "b8651c50",
   "metadata": {},
   "outputs": [],
   "source": [
    "a, b, c= np.expand_dims(embeddings[0], axis= -1), np.expand_dims(embeddings[1], axis= -1), np.expand_dims(embeddings[2], axis= -1)"
   ]
  },
  {
   "cell_type": "code",
   "execution_count": 33,
   "id": "f5dd3d46",
   "metadata": {},
   "outputs": [
    {
     "data": {
      "text/plain": [
       "(-129.7945015040424, -120.07998381769109, -119.31878632925533)"
      ]
     },
     "execution_count": 33,
     "metadata": {},
     "output_type": "execute_result"
    }
   ],
   "source": [
    "diem.sim( a, b ), diem.sim( a, c ), diem.sim( b, c )"
   ]
  }
 ],
 "metadata": {
  "kernelspec": {
   "display_name": "base",
   "language": "python",
   "name": "python3"
  },
  "language_info": {
   "codemirror_mode": {
    "name": "ipython",
    "version": 3
   },
   "file_extension": ".py",
   "mimetype": "text/x-python",
   "name": "python",
   "nbconvert_exporter": "python",
   "pygments_lexer": "ipython3",
   "version": "3.11.3"
  }
 },
 "nbformat": 4,
 "nbformat_minor": 5
}
