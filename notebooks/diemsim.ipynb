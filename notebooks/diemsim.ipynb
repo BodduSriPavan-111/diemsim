{
 "cells": [
  {
   "cell_type": "markdown",
   "id": "ad5d764f",
   "metadata": {},
   "source": [
    "### Import necessary libraries"
   ]
  },
  {
   "cell_type": "code",
   "execution_count": 4,
   "id": "a98da935",
   "metadata": {},
   "outputs": [],
   "source": [
    "import sys\n",
    "import os\n",
    "\n",
    "sys.path.append(os.path.abspath(os.path.join(os.getcwd(), '..')))\n",
    "\n",
    "import numpy as np\n",
    "from diemsim import DIEM"
   ]
  },
  {
   "cell_type": "code",
   "execution_count": 7,
   "id": "68209598",
   "metadata": {},
   "outputs": [],
   "source": [
    "N= 12\n",
    "maxV= 1\n",
    "minV= 0\n",
    "n_iter= int(1e5)"
   ]
  },
  {
   "cell_type": "code",
   "execution_count": 10,
   "id": "49bfb3fe",
   "metadata": {},
   "outputs": [],
   "source": [
    "S1= np.random.rand(N, 1) * (maxV - minV) + minV\n",
    "S2= np.random.rand(N, 1) * (maxV - minV) + minV"
   ]
  },
  {
   "cell_type": "code",
   "execution_count": 14,
   "id": "e8f219a5",
   "metadata": {},
   "outputs": [],
   "source": [
    "diem= DIEM( N= 12, maxV= 1, minV= 0, n_iter= int(1e5)) "
   ]
  },
  {
   "cell_type": "code",
   "execution_count": 15,
   "id": "25fc4818",
   "metadata": {},
   "outputs": [
    {
     "data": {
      "text/plain": [
       "{'exp_center': 1.39532521073941,\n",
       " 'vard': 0.05976843559832123,\n",
       " 'std_one': 4.090383762402053,\n",
       " 'orth_med': 13.952019417876338,\n",
       " 'min_DIEM': -23.34552003530442,\n",
       " 'max_DIEM': 34.61319312925855}"
      ]
     },
     "execution_count": 15,
     "metadata": {},
     "output_type": "execute_result"
    }
   ],
   "source": [
    "diem.stats"
   ]
  },
  {
   "cell_type": "code",
   "execution_count": 32,
   "id": "9ff9aa64",
   "metadata": {},
   "outputs": [
    {
     "name": "stdout",
     "output_type": "stream",
     "text": [
      "Output Value:  -1.576017536921622\n"
     ]
    }
   ],
   "source": [
    "print( \"Output Value: \", diem.sim( S1, S2) )"
   ]
  }
 ],
 "metadata": {
  "kernelspec": {
   "display_name": "base",
   "language": "python",
   "name": "python3"
  },
  "language_info": {
   "codemirror_mode": {
    "name": "ipython",
    "version": 3
   },
   "file_extension": ".py",
   "mimetype": "text/x-python",
   "name": "python",
   "nbconvert_exporter": "python",
   "pygments_lexer": "ipython3",
   "version": "3.11.3"
  }
 },
 "nbformat": 4,
 "nbformat_minor": 5
}
