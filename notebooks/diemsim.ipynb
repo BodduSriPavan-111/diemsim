{
 "cells": [
  {
   "cell_type": "markdown",
   "id": "ad5d764f",
   "metadata": {},
   "source": [
    "### Import necessary libraries"
   ]
  },
  {
   "cell_type": "code",
   "execution_count": 1,
   "id": "a98da935",
   "metadata": {},
   "outputs": [],
   "source": [
    "import sys\n",
    "import os\n",
    "\n",
    "sys.path.append(os.path.abspath(os.path.join(os.getcwd(), '..')))\n",
    "\n",
    "from diemsim import DIEM"
   ]
  },
  {
   "cell_type": "code",
   "execution_count": 9,
   "id": "68209598",
   "metadata": {},
   "outputs": [
    {
     "data": {
      "text/plain": [
       "46.5"
      ]
     },
     "execution_count": 9,
     "metadata": {},
     "output_type": "execute_result"
    }
   ],
   "source": [
    "round(46.496713, 2)"
   ]
  },
  {
   "cell_type": "code",
   "execution_count": 3,
   "id": "e8f219a5",
   "metadata": {},
   "outputs": [],
   "source": [
    "stat= DIEM( N= 12, maxV= 1, minV= 0, n_iter= int(1e5)) "
   ]
  },
  {
   "cell_type": "code",
   "execution_count": 5,
   "id": "25fc4818",
   "metadata": {},
   "outputs": [
    {
     "data": {
      "text/plain": [
       "(1.3944597764116877,\n",
       " 0.059798367470260454,\n",
       " {'exp_center': 1.3944597764116877,\n",
       "  'vard': 0.059798367470260454,\n",
       "  'std_one': 4.089359920340711,\n",
       "  'orth_med': 13.95362008222118,\n",
       "  'min_DIEM': -23.319361972635708,\n",
       "  'max_DIEM': 34.61034015277027})"
      ]
     },
     "execution_count": 5,
     "metadata": {},
     "output_type": "execute_result"
    }
   ],
   "source": [
    "stat.exp_center, stat.vard, stat.stats"
   ]
  },
  {
   "cell_type": "code",
   "execution_count": 10,
   "id": "2238d860",
   "metadata": {},
   "outputs": [],
   "source": [
    "exp_center, vard= stat.exp_center, stat.vard"
   ]
  },
  {
   "cell_type": "code",
   "execution_count": 11,
   "metadata": {},
   "outputs": [
    {
     "data": {
      "text/plain": [
       "(7.992535823305703, 0.05544915691455814)"
      ]
     },
     "execution_count": 11,
     "metadata": {},
     "output_type": "execute_result"
    }
   ],
   "source": [
    "exp_center, vard"
   ]
  },
  {
   "cell_type": "code",
   "execution_count": null,
   "id": "490cc8b4",
   "metadata": {},
   "outputs": [],
   "source": []
  },
  {
   "cell_type": "code",
   "execution_count": null,
   "id": "ce002fde",
   "metadata": {},
   "outputs": [],
   "source": []
  },
  {
   "cell_type": "code",
   "execution_count": null,
   "id": "784d1ae3",
   "metadata": {},
   "outputs": [],
   "source": [
    "for j = 1:1e5\n",
    "    %Uniform Distribution\n",
    "    a{j} = (maxV-minV)*rand(N,1)+minV;\n",
    "    b{j} = (maxV-minV)*rand(N,1)+minV;\n",
    "    d(j) = pdist2(a{j}',b{j}',\"euclidean\");\n",
    "\n",
    "    tmp = null(a{j}');\n",
    "    ort{j} = tmp(:,1);\n",
    "    %Eucledian Distance\n",
    "    \n",
    "    dort(j) = pdist2(a{j}',ort{j}',\"euclidean\");\n",
    "end\n",
    "\n",
    "%Deterending Euclidian Distance on Median Value\n",
    "exp_center = median(d);\n",
    "vard = var(d); %Variance of Euclidean Distirbution\n",
    "orth_med = (maxV-minV)*(median(dort) - exp_center)./var(d); %Median DIEM of Orthogonal Quantities\n",
    "adjusted_dist = (maxV-minV)*(d - exp_center)./var(d); %Centering the DIEM distribution to zero and scaling it to have same variance and range\n",
    "std_one = std(adjusted_dist); %One Standard Deviation of DIEM\n",
    "\n",
    "min_DIEM = -(maxV-minV)*(exp_center/vard); %Minimum DIEM \n",
    "max_DIEM = (maxV-minV)*(sqrt(N)*(maxV-minV)-exp_center)/vard; %Maximum DIEM "
   ]
  },
  {
   "cell_type": "code",
   "execution_count": 65,
   "id": "9d32ebc4",
   "metadata": {},
   "outputs": [],
   "source": [
    "import time\n",
    "\n",
    "import numpy as np\n",
    "from scipy.spatial.distance import euclidean\n",
    "from scipy.linalg import null_space"
   ]
  },
  {
   "cell_type": "code",
   "execution_count": 70,
   "id": "9571b115",
   "metadata": {},
   "outputs": [],
   "source": [
    "def DIEM_stat( N, maxV, minV, n_iter= 100000 ):\n",
    "\n",
    "    d= []\n",
    "    dort= []\n",
    "\n",
    "    for j in range(n_iter):\n",
    "\n",
    "        a= (maxV-minV)*np.random.rand(N, 1)+minV\n",
    "        b= (maxV-minV)*np.random.rand(N, 1)+minV\n",
    "\n",
    "        tmp= null_space( a.T )\n",
    "        ort= tmp[:, 0]\n",
    "\n",
    "        d.append( euclidean( a.flatten(), b.flatten() ) )\n",
    "        dort.append( euclidean(a.flatten(), ort) )\n",
    "\n",
    "    exp_center= np.median( d )\n",
    "    vard= np.var( d )\n",
    "    \n",
    "    orth_med= (maxV-minV)*(np.median(dort)- exp_center)/vard\n",
    "    adjusted_dist= (maxV-minV)*(np.array(d)-exp_center)/vard\n",
    "\n",
    "    std_one= np.std( adjusted_dist )\n",
    "\n",
    "    min_DIEM= -(maxV-minV)*(exp_center/vard)\n",
    "    max_DIEM= (maxV-minV)*(np.sqrt(N)*(maxV-minV)-exp_center)/vard\n",
    "\n",
    "    return {\"d\": d, \"dort\": dort, \"exp_center\": exp_center, \"vard\": vard, \n",
    "            \"orth_med\": orth_med, \"adjusted_dist\": adjusted_dist, \n",
    "            \"std_one\": std_one, \"min_DIEM\": min_DIEM, \"max_DIEM\": max_DIEM}"
   ]
  },
  {
   "cell_type": "code",
   "execution_count": 66,
   "id": "80a0762b",
   "metadata": {},
   "outputs": [
    {
     "name": "stdout",
     "output_type": "stream",
     "text": [
      "6.1117978890736895\n"
     ]
    }
   ],
   "source": [
    "start= time.time()\n",
    "\n",
    "output= DIEM_stat( N= 384, maxV= 1, minV= 0)\n",
    "\n",
    "end= time.time()\n",
    "\n",
    "print( (end-start)/60 )"
   ]
  },
  {
   "cell_type": "code",
   "execution_count": 72,
   "id": "b23bd8ba",
   "metadata": {},
   "outputs": [
    {
     "name": "stdout",
     "output_type": "stream",
     "text": [
      "0.0007564624150594076\n"
     ]
    },
    {
     "data": {
      "text/plain": [
       "(7.788096942969833, 0.10202749765496391)"
      ]
     },
     "execution_count": 72,
     "metadata": {},
     "output_type": "execute_result"
    }
   ],
   "source": [
    "start= time.time()\n",
    "\n",
    "output= DIEM_stat( N= 384, maxV= 1, minV= 0, n_iter= 10)\n",
    "\n",
    "end= time.time()\n",
    "\n",
    "print( (end-start)/60 )\n",
    "output[\"exp_center\"], output[\"vard\"]"
   ]
  },
  {
   "cell_type": "code",
   "execution_count": 73,
   "id": "c8a202ad",
   "metadata": {},
   "outputs": [
    {
     "name": "stdout",
     "output_type": "stream",
     "text": [
      "0.0014041622479756674\n"
     ]
    },
    {
     "data": {
      "text/plain": [
       "(8.132876632215575, 0.07822663244559995)"
      ]
     },
     "execution_count": 73,
     "metadata": {},
     "output_type": "execute_result"
    }
   ],
   "source": [
    "start= time.time()\n",
    "\n",
    "output= DIEM_stat( N= 384, maxV= 1, minV= 0, n_iter= 20)\n",
    "\n",
    "end= time.time()\n",
    "\n",
    "print( (end-start)/60 )\n",
    "output[\"exp_center\"], output[\"vard\"]"
   ]
  },
  {
   "cell_type": "code",
   "execution_count": 74,
   "id": "e8f122df",
   "metadata": {},
   "outputs": [
    {
     "name": "stdout",
     "output_type": "stream",
     "text": [
      "0.0031040191650390627\n"
     ]
    },
    {
     "data": {
      "text/plain": [
       "(8.018107746757247, 0.04285726788519402)"
      ]
     },
     "execution_count": 74,
     "metadata": {},
     "output_type": "execute_result"
    }
   ],
   "source": [
    "start= time.time()\n",
    "\n",
    "output= DIEM_stat( N= 384, maxV= 1, minV= 0, n_iter= 50)\n",
    "\n",
    "end= time.time()\n",
    "\n",
    "print( (end-start)/60 )\n",
    "output[\"exp_center\"], output[\"vard\"]"
   ]
  },
  {
   "cell_type": "code",
   "execution_count": 75,
   "id": "66bcd421",
   "metadata": {},
   "outputs": [
    {
     "name": "stdout",
     "output_type": "stream",
     "text": [
      "0.00570975144704183\n"
     ]
    },
    {
     "data": {
      "text/plain": [
       "(8.06877728623146, 0.06792996907361001)"
      ]
     },
     "execution_count": 75,
     "metadata": {},
     "output_type": "execute_result"
    }
   ],
   "source": [
    "start= time.time()\n",
    "\n",
    "output= DIEM_stat( N= 384, maxV= 1, minV= 0, n_iter= 100)\n",
    "\n",
    "end= time.time()\n",
    "\n",
    "print( (end-start)/60 )\n",
    "output[\"exp_center\"], output[\"vard\"]"
   ]
  },
  {
   "cell_type": "code",
   "execution_count": null,
   "id": "9940838d",
   "metadata": {},
   "outputs": [],
   "source": []
  }
 ],
 "metadata": {
  "kernelspec": {
   "display_name": "base",
   "language": "python",
   "name": "python3"
  },
  "language_info": {
   "codemirror_mode": {
    "name": "ipython",
    "version": 3
   },
   "file_extension": ".py",
   "mimetype": "text/x-python",
   "name": "python",
   "nbconvert_exporter": "python",
   "pygments_lexer": "ipython3",
   "version": "3.11.3"
  }
 },
 "nbformat": 4,
 "nbformat_minor": 5
}
